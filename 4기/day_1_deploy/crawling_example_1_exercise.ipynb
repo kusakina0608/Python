{
 "cells": [
  {
   "cell_type": "markdown",
   "metadata": {
    "colab_type": "text",
    "id": "tWS1zBfkjZkV"
   },
   "source": [
    "### fake_useragent 라이브러리 install"
   ]
  },
  {
   "cell_type": "code",
   "execution_count": 0,
   "metadata": {
    "colab": {
     "base_uri": "https://localhost:8080/",
     "height": 177
    },
    "colab_type": "code",
    "executionInfo": {
     "elapsed": 8111,
     "status": "ok",
     "timestamp": 1578750197472,
     "user": {
      "displayName": "Ji-hoon Kim",
      "photoUrl": "",
      "userId": "13472183013488020071"
     },
     "user_tz": -540
    },
    "id": "GiPkEC721y0i",
    "outputId": "05d3f6c8-ee85-450b-c1f4-04666ccb628d"
   },
   "outputs": [
    {
     "name": "stdout",
     "output_type": "stream",
     "text": [
      "Collecting fake_useragent\n",
      "  Downloading https://files.pythonhosted.org/packages/d1/79/af647635d6968e2deb57a208d309f6069d31cb138066d7e821e575112a80/fake-useragent-0.1.11.tar.gz\n",
      "Building wheels for collected packages: fake-useragent\n",
      "  Building wheel for fake-useragent (setup.py) ... \u001b[?25l\u001b[?25hdone\n",
      "  Created wheel for fake-useragent: filename=fake_useragent-0.1.11-cp36-none-any.whl size=13485 sha256=da568dd4555e5429fc0aa201f373800e433db3214078c54141f8bd161a228334\n",
      "  Stored in directory: /root/.cache/pip/wheels/5e/63/09/d1dc15179f175357d3f5c00cbffbac37f9e8690d80545143ff\n",
      "Successfully built fake-useragent\n",
      "Installing collected packages: fake-useragent\n",
      "Successfully installed fake-useragent-0.1.11\n"
     ]
    }
   ],
   "source": [
    "!pip install fake_useragent"
   ]
  },
  {
   "cell_type": "markdown",
   "metadata": {
    "colab_type": "text",
    "id": "wsfIvSPdjebJ"
   },
   "source": [
    "### 크롤링을 위한 라이브러리 import"
   ]
  },
  {
   "cell_type": "code",
   "execution_count": 0,
   "metadata": {
    "colab": {},
    "colab_type": "code",
    "id": "I0ofuf7B1VAD"
   },
   "outputs": [],
   "source": [
    "import requests\n",
    "from bs4 import BeautifulSoup\n",
    "from fake_useragent import UserAgent"
   ]
  },
  {
   "cell_type": "markdown",
   "metadata": {
    "colab_type": "text",
    "id": "ByApsPBojvUT"
   },
   "source": [
    "### Q1. 미국 Customer Reports 사이트에서 아래 url로 제품 정보(html) 조회\n",
    "* 'https://www.consumerreports.org/cro/a-to-z-index/products/index.htm'\n",
    "* UserAgent 라이브러리를 이용해 chrome 에서 접속한 것처럼 header 정보 생성"
   ]
  },
  {
   "cell_type": "code",
   "execution_count": 0,
   "metadata": {
    "colab": {},
    "colab_type": "code",
    "id": "sVD3CZMDjs6A"
   },
   "outputs": [],
   "source": []
  },
  {
   "cell_type": "markdown",
   "metadata": {
    "colab_type": "text",
    "id": "vj-y_KeG1xZX"
   },
   "source": [
    "### Q2. 제품의 이름 정보와 링크 정보 조회 하여 딕셔너리 객체(products)에 할당"
   ]
  },
  {
   "cell_type": "code",
   "execution_count": 0,
   "metadata": {
    "colab": {},
    "colab_type": "code",
    "id": "BgSYgnvhkZkZ"
   },
   "outputs": [],
   "source": []
  },
  {
   "cell_type": "markdown",
   "metadata": {
    "colab_type": "text",
    "id": "P-eJ0XUuksvc"
   },
   "source": [
    "### Q3. products 객체를 loop 돌면서 제품명 과 link 정보 출력 "
   ]
  },
  {
   "cell_type": "code",
   "execution_count": 0,
   "metadata": {
    "colab": {},
    "colab_type": "code",
    "id": "9nKpyCgWkrEM"
   },
   "outputs": [],
   "source": []
  }
 ],
 "metadata": {
  "colab": {
   "authorship_tag": "ABX9TyN/Wxd+EEGfC9L8/2PH5RJ8",
   "collapsed_sections": [],
   "name": "crawling_example_1_exercise.ipynb",
   "provenance": []
  },
  "kernelspec": {
   "display_name": "Python 3",
   "language": "python",
   "name": "python3"
  },
  "language_info": {
   "codemirror_mode": {
    "name": "ipython",
    "version": 3
   },
   "file_extension": ".py",
   "mimetype": "text/x-python",
   "name": "python",
   "nbconvert_exporter": "python",
   "pygments_lexer": "ipython3",
   "version": "3.7.4"
  }
 },
 "nbformat": 4,
 "nbformat_minor": 1
}
