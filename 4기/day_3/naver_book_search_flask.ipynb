{
 "cells": [
  {
   "cell_type": "code",
   "execution_count": 2,
   "metadata": {
    "colab": {
     "base_uri": "https://localhost:8080/",
     "height": 309
    },
    "colab_type": "code",
    "executionInfo": {
     "elapsed": 6888,
     "status": "ok",
     "timestamp": 1579154984302,
     "user": {
      "displayName": "Ji-hoon Kim",
      "photoUrl": "",
      "userId": "13472183013488020071"
     },
     "user_tz": -540
    },
    "id": "KrwZuzxwna4w",
    "outputId": "defb9346-8eae-47e8-d7be-fce33c84e988"
   },
   "outputs": [
    {
     "name": "stdout",
     "output_type": "stream",
     "text": [
      "Collecting flask-ngrok\n",
      "  Downloading https://files.pythonhosted.org/packages/af/6c/f54cb686ad1129e27d125d182f90f52b32f284e6c8df58c1bae54fa1adbc/flask_ngrok-0.0.25-py3-none-any.whl\n",
      "Requirement already satisfied: Flask>=0.8 in /usr/local/lib/python3.6/dist-packages (from flask-ngrok) (1.1.1)\n",
      "Requirement already satisfied: requests in /usr/local/lib/python3.6/dist-packages (from flask-ngrok) (2.21.0)\n",
      "Requirement already satisfied: Jinja2>=2.10.1 in /usr/local/lib/python3.6/dist-packages (from Flask>=0.8->flask-ngrok) (2.10.3)\n",
      "Requirement already satisfied: itsdangerous>=0.24 in /usr/local/lib/python3.6/dist-packages (from Flask>=0.8->flask-ngrok) (1.1.0)\n",
      "Requirement already satisfied: click>=5.1 in /usr/local/lib/python3.6/dist-packages (from Flask>=0.8->flask-ngrok) (7.0)\n",
      "Requirement already satisfied: Werkzeug>=0.15 in /usr/local/lib/python3.6/dist-packages (from Flask>=0.8->flask-ngrok) (0.16.0)\n",
      "Requirement already satisfied: idna<2.9,>=2.5 in /usr/local/lib/python3.6/dist-packages (from requests->flask-ngrok) (2.8)\n",
      "Requirement already satisfied: urllib3<1.25,>=1.21.1 in /usr/local/lib/python3.6/dist-packages (from requests->flask-ngrok) (1.24.3)\n",
      "Requirement already satisfied: chardet<3.1.0,>=3.0.2 in /usr/local/lib/python3.6/dist-packages (from requests->flask-ngrok) (3.0.4)\n",
      "Requirement already satisfied: certifi>=2017.4.17 in /usr/local/lib/python3.6/dist-packages (from requests->flask-ngrok) (2019.11.28)\n",
      "Requirement already satisfied: MarkupSafe>=0.23 in /usr/local/lib/python3.6/dist-packages (from Jinja2>=2.10.1->Flask>=0.8->flask-ngrok) (1.1.1)\n",
      "Installing collected packages: flask-ngrok\n",
      "Successfully installed flask-ngrok-0.0.25\n"
     ]
    }
   ],
   "source": [
    "!pip install flask-ngrok"
   ]
  },
  {
   "cell_type": "code",
   "execution_count": 3,
   "metadata": {
    "colab": {
     "base_uri": "https://localhost:8080/",
     "height": 1000
    },
    "colab_type": "code",
    "executionInfo": {
     "elapsed": 364864,
     "status": "ok",
     "timestamp": 1579155342576,
     "user": {
      "displayName": "Ji-hoon Kim",
      "photoUrl": "",
      "userId": "13472183013488020071"
     },
     "user_tz": -540
    },
    "id": "z_UmKIJLnpm7",
    "outputId": "88e932a6-6627-474e-abf5-f23486411e35"
   },
   "outputs": [
    {
     "name": "stdout",
     "output_type": "stream",
     "text": [
      " * Serving Flask app \"__main__\" (lazy loading)\n",
      " * Environment: production\n",
      "   WARNING: This is a development server. Do not use it in a production deployment.\n",
      "   Use a production WSGI server instead.\n",
      " * Debug mode: off\n"
     ]
    },
    {
     "name": "stderr",
     "output_type": "stream",
     "text": [
      " * Running on http://127.0.0.1:5000/ (Press CTRL+C to quit)\n"
     ]
    },
    {
     "name": "stdout",
     "output_type": "stream",
     "text": [
      " * Running on http://7cef943b.ngrok.io\n",
      " * Traffic stats available on http://127.0.0.1:4040\n"
     ]
    },
    {
     "name": "stderr",
     "output_type": "stream",
     "text": [
      "127.0.0.1 - - [16/Jan/2020 06:10:23] \"\u001b[37mPOST /action HTTP/1.1\u001b[0m\" 200 -\n"
     ]
    },
    {
     "name": "stdout",
     "output_type": "stream",
     "text": [
      "{'display': 3,\n",
      " 'items': [{'author': '사이토 고키',\n",
      "            'description': '직접 구현하고 움직여보며 익히는 가장 쉬운 <b>딥러닝</b> 입문서!『밑바닥부터 시작하는 '\n",
      "                           '<b>딥러닝</b>』은 라이브러리나 프레임워크에 의존하지 않고, <b>딥러닝</b>의 '\n",
      "                           '핵심을 ‘밑바닥부터’ 직접 만들어보며 즐겁게 배울 수 있는 본격 <b>딥러닝</b> '\n",
      "                           '입문서다. 술술 읽힐 만큼 쉽게 설명하였고, 역전파처럼 어려운 내용은 ‘계산... ',\n",
      "            'discount': '21600',\n",
      "            'image': 'https://bookthumb-phinf.pstatic.net/cover/114/923/11492334.jpg?type=m1&udate=20191010',\n",
      "            'isbn': '8968484635 9788968484636',\n",
      "            'link': 'http://book.naver.com/bookdb/book_detail.php?bid=11492334',\n",
      "            'price': '24000',\n",
      "            'pubdate': '20170103',\n",
      "            'publisher': '한빛미디어',\n",
      "            'title': '밑바닥부터 시작하는 <b>딥러닝</b> (파이썬으로 익히는 <b>딥러닝</b> 이론과 구현)'},\n",
      "           {'author': '사이토 고키',\n",
      "            'description': '직접 구현하면서 배우는 본격 <b>딥러닝</b> 입문서\\n'\n",
      "                           '이번에는 순환 신경망과 자연어 처리다!이 책은 『밑바닥부터 시작하는 '\n",
      "                           '<b>딥러닝</b>』에서 다루지 못했던 순환 신경망(RNN)을 자연어 처리와 시계열 데이터 '\n",
      "                           '처리에 사용하는 <b>딥러닝</b> 기술에 초점을 맞춰 살펴본다. 8장 구성으로 전체를 '\n",
      "                           '하나의 이야기처럼 순서대로 읽도록... ',\n",
      "            'discount': '26100',\n",
      "            'image': 'https://bookthumb-phinf.pstatic.net/cover/147/970/14797086.jpg?type=m1&udate=20191010',\n",
      "            'isbn': '1162241748 9791162241745',\n",
      "            'link': 'http://book.naver.com/bookdb/book_detail.php?bid=14797086',\n",
      "            'price': '29000',\n",
      "            'pubdate': '20190501',\n",
      "            'publisher': '한빛미디어',\n",
      "            'title': '밑바닥부터 시작하는 <b>딥러닝</b> 2 (파이썬으로 직접 구현하며 배우는 순환 신경망과 자연어 '\n",
      "                     '처리)'},\n",
      "           {'author': '프랑소와 숄레',\n",
      "            'description': '창시자의 철학까지 담은 <b>딥러닝</b> 입문서케라스 창시자이자 구글 <b>딥러닝</b> '\n",
      "                           '연구원인 저자는 ‘인공 지능의 민주화’를 강조한다. 이 책 역시 많은 사람에게 '\n",
      "                           '<b>딥러닝</b>을 전달하는 또 다른 방법이며, <b>딥러닝</b> 이면의 개념과 구현을 '\n",
      "                           '가능하면 쉽게 이해할 수 있게 하는 데 중점을 두었다. 1부에서는 <b>딥러닝</b>, '\n",
      "                           '신경망, 머신... ',\n",
      "            'discount': '29700',\n",
      "            'image': 'https://bookthumb-phinf.pstatic.net/cover/140/690/14069088.jpg?type=m1&udate=20200109',\n",
      "            'isbn': '1160505977 9791160505979',\n",
      "            'link': 'http://book.naver.com/bookdb/book_detail.php?bid=14069088',\n",
      "            'price': '33000',\n",
      "            'pubdate': '20181022',\n",
      "            'publisher': '길벗',\n",
      "            'title': '케라스 창시자에게 배우는 <b>딥러닝</b> (창시자의 철학까지 담았다!)'}],\n",
      " 'lastBuildDate': 'Thu, 16 Jan 2020 15:10:22 +0900',\n",
      " 'start': 1,\n",
      " 'total': 646}\n",
      "[{'author': '사이토 고키',\n",
      "  'description': '직접 구현하고 움직여보며 익히는 가장 쉬운 <b>딥러닝</b> 입문서!『밑바닥부터 시작하는 '\n",
      "                 '<b>딥러닝</b>』은 라이브러리나 프레임워크에 의존하지 않고, <b>딥러닝</b>의 핵심을 ‘밑바닥부터’ '\n",
      "                 '직접 만들어보며 즐겁게 배울 수 있는 본격 <b>딥러닝</b> 입문서다. 술술 읽힐 만큼 쉽게 설명하였고, '\n",
      "                 '역전파처럼 어려운 내용은 ‘계산... ',\n",
      "  'discount': '21600',\n",
      "  'image': 'https://bookthumb-phinf.pstatic.net/cover/114/923/11492334.jpg?type=m1&udate=20191010',\n",
      "  'isbn': '8968484635 9788968484636',\n",
      "  'link': 'http://book.naver.com/bookdb/book_detail.php?bid=11492334',\n",
      "  'price': '24000',\n",
      "  'pubdate': '20170103',\n",
      "  'publisher': '한빛미디어',\n",
      "  'title': '밑바닥부터 시작하는 <b>딥러닝</b> (파이썬으로 익히는 <b>딥러닝</b> 이론과 구현)'},\n",
      " {'author': '사이토 고키',\n",
      "  'description': '직접 구현하면서 배우는 본격 <b>딥러닝</b> 입문서\\n'\n",
      "                 '이번에는 순환 신경망과 자연어 처리다!이 책은 『밑바닥부터 시작하는 <b>딥러닝</b>』에서 다루지 못했던 '\n",
      "                 '순환 신경망(RNN)을 자연어 처리와 시계열 데이터 처리에 사용하는 <b>딥러닝</b> 기술에 초점을 맞춰 '\n",
      "                 '살펴본다. 8장 구성으로 전체를 하나의 이야기처럼 순서대로 읽도록... ',\n",
      "  'discount': '26100',\n",
      "  'image': 'https://bookthumb-phinf.pstatic.net/cover/147/970/14797086.jpg?type=m1&udate=20191010',\n",
      "  'isbn': '1162241748 9791162241745',\n",
      "  'link': 'http://book.naver.com/bookdb/book_detail.php?bid=14797086',\n",
      "  'price': '29000',\n",
      "  'pubdate': '20190501',\n",
      "  'publisher': '한빛미디어',\n",
      "  'title': '밑바닥부터 시작하는 <b>딥러닝</b> 2 (파이썬으로 직접 구현하며 배우는 순환 신경망과 자연어 처리)'},\n",
      " {'author': '프랑소와 숄레',\n",
      "  'description': '창시자의 철학까지 담은 <b>딥러닝</b> 입문서케라스 창시자이자 구글 <b>딥러닝</b> 연구원인 저자는 '\n",
      "                 '‘인공 지능의 민주화’를 강조한다. 이 책 역시 많은 사람에게 <b>딥러닝</b>을 전달하는 또 다른 '\n",
      "                 '방법이며, <b>딥러닝</b> 이면의 개념과 구현을 가능하면 쉽게 이해할 수 있게 하는 데 중점을 두었다. '\n",
      "                 '1부에서는 <b>딥러닝</b>, 신경망, 머신... ',\n",
      "  'discount': '29700',\n",
      "  'image': 'https://bookthumb-phinf.pstatic.net/cover/140/690/14069088.jpg?type=m1&udate=20200109',\n",
      "  'isbn': '1160505977 9791160505979',\n",
      "  'link': 'http://book.naver.com/bookdb/book_detail.php?bid=14069088',\n",
      "  'price': '33000',\n",
      "  'pubdate': '20181022',\n",
      "  'publisher': '길벗',\n",
      "  'title': '케라스 창시자에게 배우는 <b>딥러닝</b> (창시자의 철학까지 담았다!)'}]\n",
      "밑바닥부터 시작하는 <b>딥러닝</b> (파이썬으로 익히는 <b>딥러닝</b> 이론과 구현) 밑바닥부터 시작하는 <b>딥러닝</b> 2 (파이썬으로 직접 구현하며 배우는 순환 신경망과 자연어 처리) 케라스 창시자에게 배우는 <b>딥러닝</b> (창시자의 철학까지 담았다!) \n"
     ]
    }
   ],
   "source": [
    "from flask_ngrok import run_with_ngrok\n",
    "from flask import Flask, request\n",
    "import pprint\n",
    "import requests\n",
    "\n",
    "app = Flask(__name__)\n",
    "run_with_ngrok(app)   #starts ngrok when the app is run\n",
    "\n",
    "@app.route('/action', methods=['GET', 'POST'])\n",
    "def process_webhook():\n",
    "    request_json = request.json\n",
    "    \n",
    "    # naver-book 인텐트 중 book 파라미터 데이터 추출\n",
    "    query = request_json[\"queryResult\"][\"parameters\"][\"book\"]\n",
    "\n",
    "    # 인증 정보\n",
    "    client_id = \"\"\n",
    "    client_secret = \"\"\n",
    "\n",
    "    # 기본 url 정보\n",
    "    url = \"https://openapi.naver.com/v1/search/book.json\"\n",
    "\n",
    "    # url 호출 시 전달할 요청 변수 정보\n",
    "    params = {\"query\": query,\n",
    "              \"display\": 3,\n",
    "              \"sort\": \"count\"}\n",
    "\n",
    "    # requests 라이브러리를 이용한 책 검색 api 호출\n",
    "    # get 방식으로 호출(url)/ 요청 변수 전달(params)/ 인증 정보 및 인코딩 정보 전달(header)\n",
    "    response = requests.get(url=url, params=params,\n",
    "                            headers={\"X-Naver-Client-Id\": client_id,\n",
    "                                     \"X-Naver-Client-Secret\": client_secret,\n",
    "                                     \"Content-Type\": \"application/json; charset=utf-8\"})\n",
    "    # 호출 처리 상태 정보 recode 변수에 할당\n",
    "    rescode = response.status_code\n",
    "\n",
    "    if (rescode == 200):\n",
    "        # 호출 처리 상태가 정상(200) 일 경우리턴 받은 책 조회 정보 출력\n",
    "        pprint.pprint(response.json())\n",
    "        data = response.json()\n",
    "    else:\n",
    "        print(\"Error Code:\", rescode)\n",
    "\n",
    "    # Naver 책 검색 API 응답 중 실제 책 아이템 데이터 추출 및 출력\n",
    "    item_list = data[\"items\"]\n",
    "    pprint.pprint(item_list)\n",
    "\n",
    "    # Dialogflow로 응답되는 최종 문자열 데이터 구성\n",
    "    book_list = \"\"\n",
    "    for item in item_list:\n",
    "        book_list += item[\"title\"]\n",
    "        book_list += \" \"\n",
    "\n",
    "    # Dialogflow로 응답되는 최종 데이터 확인\n",
    "    print(book_list)\n",
    "\n",
    "    return {\"fulfillmentText\":book_list}\n",
    "  \n",
    "app.run()"
   ]
  },
  {
   "cell_type": "code",
   "execution_count": 0,
   "metadata": {
    "colab": {},
    "colab_type": "code",
    "id": "FphK2OIenySS"
   },
   "outputs": [],
   "source": []
  }
 ],
 "metadata": {
  "colab": {
   "authorship_tag": "ABX9TyOoQ72L21h4guCnALEicsxx",
   "collapsed_sections": [],
   "name": "naver_book_search_flask.ipynb",
   "provenance": []
  },
  "kernelspec": {
   "display_name": "Python 3",
   "language": "python",
   "name": "python3"
  },
  "language_info": {
   "codemirror_mode": {
    "name": "ipython",
    "version": 3
   },
   "file_extension": ".py",
   "mimetype": "text/x-python",
   "name": "python",
   "nbconvert_exporter": "python",
   "pygments_lexer": "ipython3",
   "version": "3.7.4"
  }
 },
 "nbformat": 4,
 "nbformat_minor": 1
}
